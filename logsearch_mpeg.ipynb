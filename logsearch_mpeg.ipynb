{
 "cells": [
  {
   "cell_type": "code",
   "execution_count": 58,
   "id": "7dabcf32-3d72-427b-b902-6342c13ab1b7",
   "metadata": {},
   "outputs": [],
   "source": [
    "import cv2\n",
    "import numpy as np\n",
    "from math import inf"
   ]
  },
  {
   "cell_type": "code",
   "execution_count": 59,
   "id": "b92e5a77-3dea-4c2c-87b1-9f840aaf13a9",
   "metadata": {},
   "outputs": [],
   "source": [
    "image1 = cv2.imread('image092.png')\n",
    "g_image1 = cv2.cvtColor(image1, cv2.COLOR_BGR2YCrCb)[:,:,0]"
   ]
  },
  {
   "cell_type": "code",
   "execution_count": 60,
   "id": "18785c9d-b1ee-4a87-9467-a47526f92103",
   "metadata": {},
   "outputs": [],
   "source": [
    "image2 = cv2.imread('image072.png')\n",
    "g_image2 = cv2.cvtColor(image2, cv2.COLOR_BGR2YCrCb)[:,:,0]"
   ]
  },
  {
   "cell_type": "code",
   "execution_count": 61,
   "id": "6e997735-60ae-4ead-99f4-b4d625f8f9fd",
   "metadata": {},
   "outputs": [],
   "source": [
    "imageN = np.zeros((1080,1920)).astype(np.uint8)\n",
    "p_image = np.zeros((1080+128,1920+128)).astype(np.uint8)\n",
    "p_image[64:1144,64:1984]= g_image2"
   ]
  },
  {
   "cell_type": "code",
   "execution_count": 62,
   "id": "a2f9c3e1-f154-4f5b-9b62-964545a871e0",
   "metadata": {},
   "outputs": [],
   "source": [
    "def MSE(bloc_1, bloc_2):\n",
    "        x, y = bloc_1.shape\n",
    "        difference = np.square(bloc_1-bloc_2)\n",
    "        return np.sum(difference)/(x*y)"
   ]
  },
  {
   "cell_type": "code",
   "execution_count": 67,
   "id": "a6cfb4ae-dddb-4bdf-b874-0f1fbe6451fa",
   "metadata": {},
   "outputs": [],
   "source": [
    "def dicho_search(step, b1cor, bloc1, x,y):\n",
    "    newblock = b1cor\n",
    "    while step>=1:\n",
    "        cord =[]\n",
    "        cord.append([newblock[0]-step,newblock[1]-step,newblock[2]-step,newblock[3]-step])\n",
    "        cord.append([newblock[0]-step,newblock[1]-step,newblock[2],newblock[3]])\n",
    "        cord.append([newblock[0]-step,newblock[1]-step,newblock[2]+step,newblock[3]+step])\n",
    "        cord.append([newblock[0],newblock[1],newblock[2]-step,newblock[3]-step])\n",
    "        cord.append([newblock[0],newblock[1],newblock[2],newblock[3]])\n",
    "        cord.append([newblock[0],newblock[1],newblock[2]+step,newblock[3]+step])\n",
    "        cord.append([newblock[0]+step,newblock[1]+step,newblock[2]-step,newblock[3]-step])\n",
    "        cord.append([newblock[0]+step,newblock[1]+step,newblock[2],newblock[3]])\n",
    "        cord.append([newblock[0]+step,newblock[1]+step,newblock[2]+step,newblock[3]+step])\n",
    "        mini = inf\n",
    "        for k in cord:\n",
    "            voisin = p_image[k[0]:k[1],k[2]:k[3]]\n",
    "            loss = MSE(voisin, bloc1)\n",
    "            if loss < mini: \n",
    "                mini = loss\n",
    "                newblock = k\n",
    "        step= step//2\n",
    "    if mini > 50: \n",
    "        imageN[i:i+16,j:j+16] = bloc1- p_image[newblock[0]:newblock[1], newblock[2]: newblock[3]]"
   ]
  },
  {
   "cell_type": "code",
   "execution_count": null,
   "id": "d0a47e5d-5aa4-49b0-aed3-cae0ebccbf9a",
   "metadata": {},
   "outputs": [],
   "source": [
    "for i in range(0,g_image1.shape[0]-16,16):\n",
    "    for j in range(0,g_image1.shape[1]-16,16):\n",
    "        bloc1 = g_image1[i:(i+16), (j):(j+16)]\n",
    "        b1cor = [i+64,(i+16)+64,j+64,(j+16)+64]\n",
    "        step = 64\n",
    "        dicho_search(step, b1cor, bloc1, i,j)\n",
    "cv2.imwrite('image072_residue.png', imageN)"
   ]
  },
  {
   "cell_type": "code",
   "execution_count": null,
   "id": "542e9243-2a53-406e-bbf6-801ad0944732",
   "metadata": {},
   "outputs": [],
   "source": []
  },
  {
   "cell_type": "code",
   "execution_count": null,
   "id": "a45134c0-f6da-4a07-99ba-e6c390ed5583",
   "metadata": {},
   "outputs": [],
   "source": []
  }
 ],
 "metadata": {
  "kernelspec": {
   "display_name": "Python 3 (ipykernel)",
   "language": "python",
   "name": "python3"
  },
  "language_info": {
   "codemirror_mode": {
    "name": "ipython",
    "version": 3
   },
   "file_extension": ".py",
   "mimetype": "text/x-python",
   "name": "python",
   "nbconvert_exporter": "python",
   "pygments_lexer": "ipython3",
   "version": "3.9.15"
  }
 },
 "nbformat": 4,
 "nbformat_minor": 5
}
